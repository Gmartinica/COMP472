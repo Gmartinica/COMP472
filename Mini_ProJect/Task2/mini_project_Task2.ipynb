{
 "cells": [
  {
   "cell_type": "markdown",
   "source": [
    "# Task2 Of Mini Project 1\n",
    "## AmirHossein Hadinezhad, Andrei Serban, Gabriel Alejandro Martinica Ardon"
   ],
   "metadata": {}
  },
  {
   "cell_type": "code",
   "execution_count": 254,
   "source": [
    "import numpy as np\n",
    "import matplotlib.pyplot as plt\n",
    "import sklearn as sk\n",
    "import pandas as pd\n",
    "from sklearn.model_selection import train_test_split\n",
    "from sklearn.naive_bayes import GaussianNB\n",
    "from sklearn.tree import DecisionTreeClassifier",
    "from sklearn.model_selection import GridSearchCV",
    "from sklearn.linear_model import Perceptron",
    "from sklearn.neural_network import MLPClassifier"
   ],
   "outputs": [],
   "metadata": {}
  },
  {
   "cell_type": "markdown",
   "source": [
    "### Loading the data (part2)"
   ],
   "metadata": {}
  },
  {
   "cell_type": "code",
   "execution_count": 255,
   "source": [
    "dataset = pd.read_csv(\"drug200.csv\")\n",
    "#debug lines\n",
    "# print(np.count_nonzero(dataset==np.nan))\n",
    "# print(dataset.head())\n"
   ],
   "outputs": [],
   "metadata": {}
  },
  {
   "cell_type": "markdown",
   "source": [
    "### Distribution Graph (Part3)"
   ],
   "metadata": {}
  },
  {
   "cell_type": "code",
   "execution_count": 256,
   "source": [
    "\n",
    "distributation = dataset.Drug.value_counts()\n",
    "\n",
    "# dataset[-1].plot(kind='hist');\n",
    "y = distributation.values\n",
    "x = distributation.index\n",
    "plt.plot()\n",
    "plt.ylabel('Frequency')\n",
    "plt.xlabel('Drug Type')\n",
    "plt.bar(x, y)\n",
    "plt.suptitle(\"Drug Distributation\")\n",
    "plt.savefig(\"Drug Distributation.pdf\", format=\"pdf\")\n",
    "plt.show()"
   ],
   "outputs": [
    {
     "output_type": "display_data",
     "data": {
      "image/png": "[encoded data removed]",
      "text/plain": [
       "<Figure size 432x288 with 1 Axes>"
      ]
     },
     "metadata": {
      "needs_background": "light"
     }
    }
   ],
   "metadata": {}
  },
  {
   "cell_type": "markdown",
   "source": [
    "### Convering the data  (Part4)"
   ],
   "metadata": {}
  },
  {
   "cell_type": "code",
   "execution_count": 260,
   "source": [
    "dataset.BP = pd.Categorical(dataset.BP, [\"LOW\", \"NORMAL\", \"HIGH\"], ordered=True)\n",
    "\n",
    "dataset.Cholesterol = pd.Categorical(dataset.Cholesterol, [\"LOW\", \"NORMAL\", \"HIGH\"], ordered=True)\n",
    "\n",
    "dataset.BP = dataset.BP.cat.codes\n",
    "dataset.Cholesterol = dataset.Cholesterol.cat.codes\n",
    "\n",
    "\n",
    "features = dataset.iloc[:, :-1]\n",
    "targets = dataset.iloc[:, -1]\n",
    "\n",
    "features = pd.get_dummies(features, columns=['Sex'], prefix=\"Gender\", prefix_sep=\": \")\n",
    "# targets = pd.get_dummies(targets, columns=['Drug'], prefix=\"Drug type\", prefix_sep=\": \")\n",
    "# debug lines\n",
    "# print(dataset.head())\n",
    "# print(features)\n",
    "# print(targets)"
   ],
   "outputs": [],
   "metadata": {}
  },
  {
   "cell_type": "markdown",
   "source": [
    "### Split dataset for training and test (part5)"
   ],
   "metadata": {}
  },
  {
   "cell_type": "code",
   "execution_count": 261,
   "source": [
    "X_train, X_test, y_train, y_test = train_test_split(features.values, targets.values)"
   ],
   "outputs": [],
   "metadata": {}
  },
  {
   "cell_type": "markdown",
   "source": [
    " ### Train using Gaussian Naive Bayes Classifie (part6a)"
   ],
   "metadata": {}
  },
  {
   "cell_type": "code",
   "execution_count": 262,
   "source": [
    "gaussian_naive_bayes_training = GaussianNB()\n",
    "gaussian_naive_bayes_training.fit(X_train, y_train)"
   ],
   "outputs": [
    {
     "output_type": "execute_result",
     "data": {
      "text/plain": [
       "GaussianNB()"
      ]
     },
     "metadata": {},
     "execution_count": 262
    }
   ],
   "metadata": {}
  },
  {
   "cell_type": "markdown",
   "source": [
    " ### Train using  Decision Tree (part6b)"
   ],
   "metadata": {}
  },
  {
   "cell_type": "code",
   "execution_count": 263,
   "source": [
    "clf = DecisionTreeClassifier(max_leaf_nodes=3, random_state=0)\n",
    "clf.fit(X_train, y_train)"
   ],
   "outputs": [
    {
     "output_type": "execute_result",
     "data": {
      "text/plain": [
       "DecisionTreeClassifier(max_leaf_nodes=3, random_state=0)"
      ]
     },
     "metadata": {},
     "execution_count": 263
    }
   ],
   "metadata": {}
  },
  {
   "cell_type": "code",
   "execution_count": null,
   "source": [
    "print(\"c)\")\n",
    "top_DT_parameters = {'criterion': ['entropy', 'gini'],\n",
    "                     'max_depth': (2, 4), \n",
    "                     'min_samples_split': (2, 3, 7)}\n",
    "\n",
    "clf_topdt = GridSearchCV(clf, top_DT_parameters)\n",
    "\n",
    "clf_topdt.fit(X_train, y_train)\n",
    "\n",
    "pred_result_gridsearch = clf_topdt.predict(X_test)"
   ],
   "outputs": [],
   "metadata": {}
  },
  {
   "cell_type": "code",
   "execution_count": null,
   "source": [
    "print(\"d)\")\n",
    "\n",
    "clf_perceptron = Perceptron()\n",
    "clf_perceptron.fit(X_train, y_train)\n",
    "pred_result_perceptron = clf_perceptron.predict(X_test)"
   ],
   "outputs": [],
   "metadata": {}
  },
  {
   "cell_type": "code",
   "execution_count": null,
   "source": [
    "print(\"e)\")\n",
    "\n",
    "clf_mlp = MLPClassifier(hidden_layer_sizes=(100), activation='logistic', solver='sgd')\n",
    "clf_mlp.fit(X_train, y_train)\n",
    "pred_result_mlp = clf_mlp.predict(X_test)"
   ],
   "outputs": [],
   "metadata": {}
  },
  {
   "cell_type": "code",
   "execution_count": null,
   "source": [
    "print(\"f)\")\n",
    "\n",
    "top_MLP_parameters = {'activation': ('logistic', 'tanh', 'relu', 'identity'),\n",
    "                  'hidden_layer_sizes': ((30, 50), (10, 10, 10)),\n",
    "                  'solver': ('adam', 'sgd')}\n",
    "\n",
    "clf_top_mlp = GridSearchCV(clf_mlp, top_MLP_parameters)\n",
    "clf_top_mlp.fit(X_train, y_train)\n",
    "pred_result_top_mlp = clf_top_mlp.predict(X_test)"
   ],
   "outputs": [],
   "metadata": {}
  }
 ],
 "metadata": {
  "kernelspec": {
   "display_name": "Python 3",
   "language": "python",
   "name": "python3"
  },
  "language_info": {
   "codemirror_mode": {
    "name": "ipython",
    "version": 3
   },
   "file_extension": ".py",
   "mimetype": "text/x-python",
   "name": "python",
   "nbconvert_exporter": "python",
   "pygments_lexer": "ipython3",
   "version": "3.8.8"
  }
 },
 "nbformat": 4,
 "nbformat_minor": 5
}
