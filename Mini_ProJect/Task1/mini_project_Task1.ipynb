{
 "cells": [
  {
   "cell_type": "markdown",
   "id": "92e82998",
   "metadata": {},
   "source": [
    "# Task1 Of Mini Project 1\n",
    "## AmirHossein Hadinezhad, Andrei Serban, Gabriel Alejandro Martinica Ardon"
   ]
  },
  {
   "cell_type": "markdown",
   "id": "7bd1d233",
   "metadata": {},
   "source": [
    "### Adding required libraries"
   ]
  },
  {
   "cell_type": "code",
   "execution_count": 62,
   "id": "e2e09f6a",
   "metadata": {},
   "outputs": [],
   "source": [
    "import numpy as np\n",
    "import matplotlib.pyplot as plt\n",
    "import sklearn\n",
    "from sklearn import datasets\n",
    "from sklearn.model_selection import train_test_split\n",
    "from sklearn.naive_bayes import MultinomialNB\n",
    "from sklearn.feature_extraction.text import CountVectorizer"
   ]
  },
  {
   "cell_type": "markdown",
   "id": "ef7e6c61",
   "metadata": {},
   "source": [
    "### Loading the data (part3)"
   ]
  },
  {
   "cell_type": "code",
   "execution_count": 63,
   "id": "883e2e20",
   "metadata": {
    "scrolled": true
   },
   "outputs": [],
   "source": [
    "sample =  datasets.load_files(\"BBC/\", description=\"BBC Text Database\",  encoding=\"latin1\")"
   ]
  },
  {
   "cell_type": "markdown",
   "id": "b8676ed6",
   "metadata": {},
   "source": [
    "### Distribution Graph (Part2)"
   ]
  },
  {
   "cell_type": "code",
   "execution_count": 64,
   "id": "799f3de6",
   "metadata": {},
   "outputs": [
    {
     "data": {
      "image/png": "[encoded data removed]",
      "text/plain": [
       "<Figure size 432x288 with 1 Axes>"
      ]
     },
     "metadata": {
      "needs_background": "light"
     },
     "output_type": "display_data"
    }
   ],
   "source": [
    "x_axis = sample.target_names\n",
    "y_axis = [np.count_nonzero(sample.target==0),\n",
    "         np.count_nonzero(sample.target==1),\n",
    "         np.count_nonzero(sample.target==2),\n",
    "         np.count_nonzero(sample.target==3),\n",
    "         np.count_nonzero(sample.target==3)]\n",
    "\n",
    "# plt.figure(figsize=(21, 12))\n",
    "plt.plot()\n",
    "plt.ylabel('number of documents')\n",
    "plt.xlabel('Text category')\n",
    "plt.bar(x_axis, y_axis)\n",
    "plt.suptitle(sample.DESCR)\n",
    "plt.savefig(\"BBC-distribution.pdf\", format=\"pdf\")\n",
    "plt.show()\n"
   ]
  },
  {
   "cell_type": "markdown",
   "id": "b90a00dd",
   "metadata": {},
   "source": [
    "### Pre-processing the data (part4)"
   ]
  },
  {
   "cell_type": "code",
   "execution_count": 65,
   "id": "8ed2f5b2",
   "metadata": {},
   "outputs": [],
   "source": [
    "cv = CountVectorizer()\n",
    "vocab = cv.fit_transform(sample.data)\n",
    "x = vocab.toarray()\n",
    "y = sample.target"
   ]
  },
  {
   "cell_type": "markdown",
   "id": "85d340f3",
   "metadata": {},
   "source": [
    "### Split dataset for training and test (part5)"
   ]
  },
  {
   "cell_type": "code",
   "execution_count": 66,
   "id": "9b4a23b1",
   "metadata": {},
   "outputs": [],
   "source": [
    "X_train, X_test, y_train, y_test = train_test_split(x, y, test_size = 0.2, random_state = None)\n"
   ]
  },
  {
   "cell_type": "markdown",
   "id": "ddb53081",
   "metadata": {},
   "source": [
    " ### Train using Naive Bayes Classifier (part6)"
   ]
  },
  {
   "cell_type": "code",
   "execution_count": 67,
   "id": "e2479ec9",
   "metadata": {},
   "outputs": [
    {
     "data": {
      "text/plain": [
       "MultinomialNB()"
      ]
     },
     "execution_count": 67,
     "metadata": {},
     "output_type": "execute_result"
    }
   ],
   "source": [
    "naive_bayes_training = MultinomialNB()\n",
    "naive_bayes_training.fit(X_train, y_train)"
   ]
  },
  {
   "cell_type": "code",
   "execution_count": 89,
   "id": "f3d4b5bd",
   "metadata": {},
   "outputs": [
    {
     "name": "stdout",
     "output_type": "stream",
     "text": [
      "a\n",
      "(2, 2)\n",
      "b\n",
      "(1, 2)\n",
      "---\n",
      "[[1 2]\n",
      " [3 4]\n",
      " [5 6]]\n",
      "ok\n",
      "[[1 2 5]\n",
      " [3 4 6]]\n",
      "---\n",
      "x\n",
      "(2225, 29421)\n",
      "y\n",
      "(2225,)\n",
      "---\n",
      "[[0 0 0 ... 0 0 0]\n",
      " [0 2 0 ... 0 0 4]\n",
      " [0 0 0 ... 0 0 2]\n",
      " ...\n",
      " [0 0 0 ... 0 0 1]\n",
      " [0 0 0 ... 0 0 1]\n",
      " [0 0 0 ... 0 0 3]]\n"
     ]
    }
   ],
   "source": [
    "#print(np.count_nonzero(x.sum(axis=0)==1))\n",
    "# print(x)\n",
    "# print(y)\n",
    "# dara = np.concatenate((x, y), axis=0)\n",
    "a = np.array([[1, 2], [3, 4]])\n",
    "b = np.array([[5, 6]])\n",
    "print(\"a\")\n",
    "print(a.shape)\n",
    "print(\"b\")\n",
    "print(b.shape)\n",
    "print(\"---\")\n",
    "print(np.concatenate((a, b), axis=0))\n",
    "print(\"ok\")\n",
    "print(np.concatenate((a, b.T), axis=1))\n",
    "print(\"---\")\n",
    "print(\"x\")\n",
    "print(x.shape)\n",
    "print(\"y\")\n",
    "print(y.shape)\n",
    "print(\"---\")\n",
    "print(np.concatenate((x, y[:,None]), axis=1))"
   ]
  },
  {
   "cell_type": "code",
   "execution_count": null,
   "id": "039f7691",
   "metadata": {},
   "outputs": [],
   "source": []
  },
  {
   "cell_type": "code",
   "execution_count": null,
   "id": "1c38a1b0",
   "metadata": {},
   "outputs": [],
   "source": []
  }
 ],
 "metadata": {
  "kernelspec": {
   "display_name": "Python 3",
   "language": "python",
   "name": "python3"
  },
  "language_info": {
   "codemirror_mode": {
    "name": "ipython",
    "version": 3
   },
   "file_extension": ".py",
   "mimetype": "text/x-python",
   "name": "python",
   "nbconvert_exporter": "python",
   "pygments_lexer": "ipython3",
   "version": "3.8.8"
  }
 },
 "nbformat": 4,
 "nbformat_minor": 5
}
