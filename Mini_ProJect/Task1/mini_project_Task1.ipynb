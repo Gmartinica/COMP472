{
 "cells": [
  {
   "cell_type": "markdown",
   "id": "92e82998",
   "metadata": {},
   "source": [
    "# Task1 Of Mini Project 1\n",
    "## AmirHossein Hadinezhad, Andrei Serban, Gabriel Alejandro Martinica Ardon"
   ]
  },
  {
   "cell_type": "markdown",
   "id": "7bd1d233",
   "metadata": {},
   "source": [
    "### Adding required libraries"
   ]
  },
  {
   "cell_type": "code",
   "execution_count": 169,
   "id": "e2e09f6a",
   "metadata": {},
   "outputs": [],
   "source": [
    "import numpy as np\n",
    "import matplotlib.pyplot as plt\n",
    "import sklearn\n",
    "from sklearn import datasets\n",
    "from sklearn.model_selection import train_test_split\n",
    "from sklearn.naive_bayes import MultinomialNB\n",
    "from sklearn.feature_extraction.text import CountVectorizer\n",
    "from sklearn.metrics import confusion_matrix"
   ]
  },
  {
   "cell_type": "markdown",
   "id": "ef7e6c61",
   "metadata": {},
   "source": [
    "### Loading the data (part3)"
   ]
  },
  {
   "cell_type": "code",
   "execution_count": 170,
   "id": "883e2e20",
   "metadata": {
    "scrolled": true
   },
   "outputs": [],
   "source": [
    "sample =  datasets.load_files(\"BBC/\", description=\"BBC Text Database\",  encoding=\"latin1\")"
   ]
  },
  {
   "cell_type": "markdown",
   "id": "b8676ed6",
   "metadata": {},
   "source": [
    "### Distribution Graph (Part2)"
   ]
  },
  {
   "cell_type": "code",
   "execution_count": 171,
   "id": "799f3de6",
   "metadata": {},
   "outputs": [
    {
     "data": {
      "image/png": "[encoded data removed]",
      "text/plain": [
       "<Figure size 432x288 with 1 Axes>"
      ]
     },
     "metadata": {
      "needs_background": "light"
     },
     "output_type": "display_data"
    }
   ],
   "source": [
    "x_axis = sample.target_names\n",
    "y_axis = [np.count_nonzero(sample.target==0),\n",
    "         np.count_nonzero(sample.target==1),\n",
    "         np.count_nonzero(sample.target==2),\n",
    "         np.count_nonzero(sample.target==3),\n",
    "         np.count_nonzero(sample.target==4)]\n",
    "\n",
    "# plt.figure(figsize=(21, 12))\n",
    "plt.plot()\n",
    "plt.ylabel('number of documents')\n",
    "plt.xlabel('Text category')\n",
    "plt.bar(x_axis, y_axis)\n",
    "plt.suptitle(sample.DESCR)\n",
    "plt.savefig(\"BBC-distribution.pdf\", format=\"pdf\")\n",
    "plt.show()\n"
   ]
  },
  {
   "cell_type": "markdown",
   "id": "b90a00dd",
   "metadata": {},
   "source": [
    "### Pre-processing the data (part4)"
   ]
  },
  {
   "cell_type": "code",
   "execution_count": 172,
   "id": "8ed2f5b2",
   "metadata": {},
   "outputs": [],
   "source": [
    "cv = CountVectorizer()\n",
    "vocab = cv.fit_transform(sample.data)\n",
    "x = vocab.toarray()\n",
    "y = sample.target"
   ]
  },
  {
   "cell_type": "markdown",
   "id": "85d340f3",
   "metadata": {},
   "source": [
    "### Split dataset for training and test (part5)"
   ]
  },
  {
   "cell_type": "code",
   "execution_count": 173,
   "id": "9b4a23b1",
   "metadata": {},
   "outputs": [],
   "source": [
    "X_train, X_test, y_train, y_test = train_test_split(x, y, test_size = 0.2, random_state = None)\n"
   ]
  },
  {
   "cell_type": "markdown",
   "id": "ddb53081",
   "metadata": {},
   "source": [
    " ### Train using Naive Bayes Classifier (part6)"
   ]
  },
  {
   "cell_type": "code",
   "execution_count": 174,
   "id": "e2479ec9",
   "metadata": {},
   "outputs": [
    {
     "data": {
      "text/plain": [
       "MultinomialNB()"
      ]
     },
     "execution_count": 174,
     "metadata": {},
     "output_type": "execute_result"
    }
   ],
   "source": [
    "naive_bayes_training = MultinomialNB()\n",
    "naive_bayes_training.fit(X_train, y_train)\n"
   ]
  },
  {
   "cell_type": "markdown",
   "id": "8a7c54a1",
   "metadata": {},
   "source": [
    " ### Create bbc-performance.txt to save the followinf information (part7)"
   ]
  },
  {
   "cell_type": "code",
   "execution_count": 175,
   "id": "9ac3dba3",
   "metadata": {},
   "outputs": [],
   "source": [
    "f = open(\"bbc-performance.txt\", \"w\")\n",
    "f.close()"
   ]
  },
  {
   "cell_type": "markdown",
   "id": "4b46825b",
   "metadata": {},
   "source": [
    "###  separator and describing model (part7a)"
   ]
  },
  {
   "cell_type": "code",
   "execution_count": 176,
   "id": "ed2dd220",
   "metadata": {},
   "outputs": [],
   "source": [
    "f = open(\"bbc-performance.txt\", \"a\")\n",
    "f.write(\"\\n\\t**********************************\\n\")\n",
    "f.write(\"\\n\\tMultinomialNB default values, try 1\\n\\n\\n\")\n",
    "f.close()"
   ]
  },
  {
   "cell_type": "markdown",
   "id": "b12f82ad",
   "metadata": {},
   "source": [
    "####  Confusion Metrix (part7b)"
   ]
  },
  {
   "cell_type": "code",
   "execution_count": null,
   "id": "6baa0082",
   "metadata": {},
   "outputs": [],
   "source": []
  },
  {
   "cell_type": "markdown",
   "id": "15d28bca",
   "metadata": {},
   "source": [
    "#### precision, recall, and F1-measure for each class (part7c)"
   ]
  },
  {
   "cell_type": "code",
   "execution_count": null,
   "id": "6f46fc29",
   "metadata": {},
   "outputs": [],
   "source": []
  },
  {
   "cell_type": "markdown",
   "id": "9fc0bc3e",
   "metadata": {},
   "source": [
    "#### accuracy, macro-average F1 and weighted-average F1 of the model (part7d)"
   ]
  },
  {
   "cell_type": "code",
   "execution_count": null,
   "id": "219db407",
   "metadata": {},
   "outputs": [],
   "source": []
  },
  {
   "cell_type": "markdown",
   "id": "884373bb",
   "metadata": {},
   "source": [
    "#### prior probability of each class (part7e)"
   ]
  },
  {
   "cell_type": "code",
   "execution_count": null,
   "id": "3e12eb69",
   "metadata": {},
   "outputs": [],
   "source": []
  },
  {
   "cell_type": "markdown",
   "id": "9c38add2",
   "metadata": {},
   "source": [
    "#### size of the vocabulary (part7f)"
   ]
  },
  {
   "cell_type": "code",
   "execution_count": null,
   "id": "07d42ecd",
   "metadata": {},
   "outputs": [],
   "source": []
  },
  {
   "cell_type": "markdown",
   "id": "f34fb833",
   "metadata": {},
   "source": [
    "#### number of word-tokens in each class (part7g)"
   ]
  },
  {
   "cell_type": "code",
   "execution_count": null,
   "id": "21e9ccbb",
   "metadata": {},
   "outputs": [],
   "source": []
  },
  {
   "cell_type": "markdown",
   "id": "bf7584b4",
   "metadata": {},
   "source": [
    "#### number of word-tokens in the entire corpus (parth)\n"
   ]
  },
  {
   "cell_type": "code",
   "execution_count": null,
   "id": "f8f8d873",
   "metadata": {},
   "outputs": [],
   "source": []
  },
  {
   "cell_type": "markdown",
   "id": "37bab533",
   "metadata": {},
   "source": [
    "#### Words with a frequency of zero in each class (part7i)"
   ]
  },
  {
   "cell_type": "code",
   "execution_count": 177,
   "id": "f3d4b5bd",
   "metadata": {
    "scrolled": true
   },
   "outputs": [],
   "source": [
    "f = open(\"bbc-performance.txt\", \"a\")\n",
    "f.write(\"\\nWords with a frequency of zero in each class (part7i)\\n\")\n",
    "w = np.concatenate((x, y[:,None]), axis=1)\n",
    "\n",
    "business=[]\n",
    "entertainment=[]\n",
    "politics=[]\n",
    "sport=[]\n",
    "tech=[]\n",
    "for item in w:\n",
    "    if(item[-1]==0):\n",
    "        business.append(item)\n",
    "    if(item[-1]==1):\n",
    "        entertainment.append(item)\n",
    "    if(item[-1]==2):\n",
    "        politics.append(item)\n",
    "    if(item[-1]==3):\n",
    "        sport.append(item)\n",
    "    if(item[-1]==4):\n",
    "        tech.append(item)\n",
    "        \n",
    "\n",
    "\n",
    "f.write(\"Num of Total unique words \"+ repr(x.shape[1])) \n",
    "business = np.array(business)\n",
    "zeros_in_business = np.count_nonzero(business.sum(axis=0)==0)\n",
    "f.write(\"\\n num of Z in business: \"+ repr((zeros_in_business-1))+ \" ,Percentage: \"+ repr((zeros_in_business-1)/x.shape[1] *100))\n",
    "\n",
    "entertainment = np.array(entertainment)\n",
    "zeros_in_entertainment = np.count_nonzero(entertainment.sum(axis=0)==0)\n",
    "f.write(\"\\n num of Z in entertainment: \"+ repr(zeros_in_entertainment)+ \" ,Percentage: \"+ repr(zeros_in_entertainment/x.shape[1] *100))\n",
    "\n",
    "politics = np.array(politics)\n",
    "zeros_in_politicst = np.count_nonzero(politics.sum(axis=0)==0)\n",
    "f.write(\"\\n num of Z in politics: \"+ repr(zeros_in_politicst)+ \" ,Percentage: \"+ repr(zeros_in_politicst/x.shape[1] *100))\n",
    "\n",
    "sport = np.array(sport)\n",
    "zeros_in_sport= np.count_nonzero(sport.sum(axis=0)==0)\n",
    "f.write(\"\\n num of Z in sport: \"+ repr(zeros_in_sport)+ \" ,Percentage: \"+ repr(zeros_in_sport/x.shape[1] *100))\n",
    "\n",
    "tech = np.array(tech)\n",
    "zeros_in_tech = np.count_nonzero(tech.sum(axis=0)==0)\n",
    "f.write(\"\\n num of Z in tech: \"+ repr(zeros_in_tech)+ \" ,Percentage: \"+ repr(zeros_in_tech/x.shape[1] *100))\n",
    "\n",
    "f.close()\n"
   ]
  },
  {
   "cell_type": "markdown",
   "id": "6d5c45ca",
   "metadata": {},
   "source": [
    " #### Words with a frequency of one in the entire corpus (part7j)"
   ]
  },
  {
   "cell_type": "code",
   "execution_count": 178,
   "id": "1c38a1b0",
   "metadata": {},
   "outputs": [],
   "source": [
    "f = open(\"bbc-performance.txt\", \"a\")\n",
    "ones_in_tottal = np.count_nonzero(x.sum(axis=0)==1)\n",
    "f.write(\"\\n\\nWords with a frequency of one in the entire corpus (part7j)\\n\")\n",
    "f.write(\"number of words with a frequency of one in the entire corpus: \"+ repr(ones_in_tottal) )\n",
    "f.write(\"\\nPercentage: \"+ repr ((ones_in_tottal/x.shape[1]) *100))\n",
    "f.close()\n"
   ]
  },
  {
   "cell_type": "markdown",
   "id": "adeb4b97",
   "metadata": {},
   "source": [
    "#### log-prob of 2 favorite words (part7k)"
   ]
  },
  {
   "cell_type": "code",
   "execution_count": null,
   "id": "4f6e5eae",
   "metadata": {},
   "outputs": [],
   "source": []
  },
  {
   "cell_type": "markdown",
   "id": "b798460c",
   "metadata": {},
   "source": [
    " ###  MultinomialNB default values, try 2 (part8)"
   ]
  },
  {
   "cell_type": "markdown",
   "id": "fec05b50",
   "metadata": {},
   "source": [
    "#### separator and describing model (MultinomialNB default2)"
   ]
  },
  {
   "cell_type": "code",
   "execution_count": 179,
   "id": "ec0fcf6d",
   "metadata": {},
   "outputs": [],
   "source": [
    "f = open(\"bbc-performance.txt\", \"a\")\n",
    "f.write(\"\\n\\n\\n\\n\\t**********************************\\n\")\n",
    "f.write(\"\\n\\tMultinomialNB default values, try 2\\n\\n\\n\")\n",
    "f.close()"
   ]
  },
  {
   "cell_type": "markdown",
   "id": "f6740096",
   "metadata": {},
   "source": [
    " #### Train using Naive Bayes Classifier"
   ]
  },
  {
   "cell_type": "code",
   "execution_count": 180,
   "id": "b997a810",
   "metadata": {},
   "outputs": [
    {
     "data": {
      "text/plain": [
       "MultinomialNB()"
      ]
     },
     "execution_count": 180,
     "metadata": {},
     "output_type": "execute_result"
    }
   ],
   "source": [
    "naive_bayes_training2 = MultinomialNB()\n",
    "naive_bayes_training2.fit(X_train, y_train)"
   ]
  },
  {
   "cell_type": "markdown",
   "id": "3815499f",
   "metadata": {},
   "source": [
    " #### Confusion Metrix"
   ]
  },
  {
   "cell_type": "code",
   "execution_count": 181,
   "id": "c6fbaf72",
   "metadata": {},
   "outputs": [],
   "source": [
    "f = open(\"bbc-performance.txt\", \"a\")\n",
    "f.write(\"\\nConfusion Metrix: \\n\")\n",
    "y_predicted = naive_bayes_training2.predict(X_test)\n",
    "f.write(repr(confusion_matrix(y_test, y_predicted)))\n",
    "f.close()"
   ]
  },
  {
   "cell_type": "markdown",
   "id": "2d06b9f8",
   "metadata": {},
   "source": [
    "#### precision, recall, and F1-measure for each class"
   ]
  },
  {
   "cell_type": "code",
   "execution_count": null,
   "id": "648cecb5",
   "metadata": {},
   "outputs": [],
   "source": []
  },
  {
   "cell_type": "markdown",
   "id": "0e6cd4b9",
   "metadata": {},
   "source": [
    "#### accuracy, macro-average F1 and weighted-average F1 of the model "
   ]
  },
  {
   "cell_type": "code",
   "execution_count": null,
   "id": "8812275b",
   "metadata": {},
   "outputs": [],
   "source": []
  },
  {
   "cell_type": "markdown",
   "id": "c3ab0198",
   "metadata": {},
   "source": [
    "#### prior probability of each class"
   ]
  },
  {
   "cell_type": "code",
   "execution_count": null,
   "id": "f039b5f3",
   "metadata": {},
   "outputs": [],
   "source": []
  },
  {
   "cell_type": "markdown",
   "id": "16d5cc37",
   "metadata": {},
   "source": [
    "#### size of the vocabulary"
   ]
  },
  {
   "cell_type": "code",
   "execution_count": null,
   "id": "9987e8e4",
   "metadata": {},
   "outputs": [],
   "source": []
  },
  {
   "cell_type": "markdown",
   "id": "27577676",
   "metadata": {},
   "source": [
    "#### number of word-tokens in each class"
   ]
  },
  {
   "cell_type": "code",
   "execution_count": null,
   "id": "5926ada7",
   "metadata": {},
   "outputs": [],
   "source": []
  },
  {
   "cell_type": "markdown",
   "id": "900e941c",
   "metadata": {},
   "source": [
    "#### number of word-tokens in the entire corpus"
   ]
  },
  {
   "cell_type": "code",
   "execution_count": null,
   "id": "577f2af8",
   "metadata": {},
   "outputs": [],
   "source": []
  },
  {
   "cell_type": "markdown",
   "id": "952b410b",
   "metadata": {},
   "source": [
    "#### Words with a frequency of zero in each class"
   ]
  },
  {
   "cell_type": "code",
   "execution_count": null,
   "id": "df6ed964",
   "metadata": {},
   "outputs": [],
   "source": []
  },
  {
   "cell_type": "markdown",
   "id": "104a14ab",
   "metadata": {},
   "source": [
    "#### Words with a frequency of one in the entire corpus"
   ]
  },
  {
   "cell_type": "code",
   "execution_count": null,
   "id": "80d99648",
   "metadata": {},
   "outputs": [],
   "source": []
  },
  {
   "cell_type": "markdown",
   "id": "bf3aaf0e",
   "metadata": {},
   "source": [
    "#### log-prob of 2 favorite words"
   ]
  },
  {
   "cell_type": "code",
   "execution_count": null,
   "id": "1addea16",
   "metadata": {},
   "outputs": [],
   "source": []
  },
  {
   "cell_type": "markdown",
   "id": "d1e541e8",
   "metadata": {},
   "source": [
    " ###  MultinomialNB with smoothing value of 0.0001(part9)"
   ]
  },
  {
   "cell_type": "markdown",
   "id": "834633b1",
   "metadata": {},
   "source": [
    "#### separator and describing model (MultinomialNB with smoothing value of 0.0001)"
   ]
  },
  {
   "cell_type": "code",
   "execution_count": 182,
   "id": "57d0c90a",
   "metadata": {},
   "outputs": [],
   "source": [
    "f = open(\"bbc-performance.txt\", \"a\")\n",
    "f.write(\"\\n\\n\\n\\n\\t**********************************\\n\")\n",
    "f.write(\"\\n\\tMultinomialNB with smoothing value of 0.0001\\n\\n\\n\")\n",
    "f.close()"
   ]
  },
  {
   "cell_type": "markdown",
   "id": "3a1b592d",
   "metadata": {},
   "source": [
    " #### Train using Naive Bayes Classifier"
   ]
  },
  {
   "cell_type": "code",
   "execution_count": 183,
   "id": "7eea64a7",
   "metadata": {},
   "outputs": [
    {
     "data": {
      "text/plain": [
       "MultinomialNB(alpha=0.0001)"
      ]
     },
     "execution_count": 183,
     "metadata": {},
     "output_type": "execute_result"
    }
   ],
   "source": [
    "naive_bayes_training_smoothing = MultinomialNB(alpha=0.0001)\n",
    "naive_bayes_training_smoothing.fit(X_train, y_train)"
   ]
  },
  {
   "cell_type": "markdown",
   "id": "a6a689b0",
   "metadata": {},
   "source": [
    " #### Confusion Metrix"
   ]
  },
  {
   "cell_type": "code",
   "execution_count": 184,
   "id": "611d3dd1",
   "metadata": {},
   "outputs": [],
   "source": [
    "f = open(\"bbc-performance.txt\", \"a\")\n",
    "f.write(\"\\nConfusion Metrix: \\n\")\n",
    "y_predicted = naive_bayes_training_smoothing.predict(X_test)\n",
    "f.write(repr(confusion_matrix(y_test, y_predicted)))\n",
    "f.close()"
   ]
  },
  {
   "cell_type": "markdown",
   "id": "e8c032e7",
   "metadata": {},
   "source": [
    "#### precision, recall, and F1-measure for each class"
   ]
  },
  {
   "cell_type": "code",
   "execution_count": null,
   "id": "9b40b941",
   "metadata": {},
   "outputs": [],
   "source": []
  },
  {
   "cell_type": "markdown",
   "id": "f30ad48f",
   "metadata": {},
   "source": [
    "#### accuracy, macro-average F1 and weighted-average F1 of the model "
   ]
  },
  {
   "cell_type": "code",
   "execution_count": null,
   "id": "d77eb9d4",
   "metadata": {},
   "outputs": [],
   "source": []
  },
  {
   "cell_type": "markdown",
   "id": "2b008f96",
   "metadata": {},
   "source": [
    "#### prior probability of each class"
   ]
  },
  {
   "cell_type": "code",
   "execution_count": null,
   "id": "3fe17fd4",
   "metadata": {},
   "outputs": [],
   "source": []
  },
  {
   "cell_type": "markdown",
   "id": "41140911",
   "metadata": {},
   "source": [
    "#### size of the vocabulary"
   ]
  },
  {
   "cell_type": "code",
   "execution_count": null,
   "id": "7e48bf4f",
   "metadata": {},
   "outputs": [],
   "source": []
  },
  {
   "cell_type": "markdown",
   "id": "13226a8d",
   "metadata": {},
   "source": [
    "#### number of word-tokens in each class"
   ]
  },
  {
   "cell_type": "code",
   "execution_count": null,
   "id": "055609e8",
   "metadata": {},
   "outputs": [],
   "source": []
  },
  {
   "cell_type": "markdown",
   "id": "69237ecd",
   "metadata": {},
   "source": [
    "#### number of word-tokens in the entire corpus"
   ]
  },
  {
   "cell_type": "code",
   "execution_count": null,
   "id": "fc8013f2",
   "metadata": {},
   "outputs": [],
   "source": []
  },
  {
   "cell_type": "markdown",
   "id": "ecd00171",
   "metadata": {},
   "source": [
    "#### Words with a frequency of zero in each class"
   ]
  },
  {
   "cell_type": "code",
   "execution_count": null,
   "id": "ed9c2b50",
   "metadata": {},
   "outputs": [],
   "source": []
  },
  {
   "cell_type": "markdown",
   "id": "ff2ed79a",
   "metadata": {},
   "source": [
    "#### Words with a frequency of one in the entire corpus"
   ]
  },
  {
   "cell_type": "code",
   "execution_count": null,
   "id": "2ac3d0b7",
   "metadata": {},
   "outputs": [],
   "source": []
  },
  {
   "cell_type": "markdown",
   "id": "75b83e36",
   "metadata": {},
   "source": [
    "#### log-prob of 2 favorite words"
   ]
  },
  {
   "cell_type": "code",
   "execution_count": null,
   "id": "fd7b102a",
   "metadata": {},
   "outputs": [],
   "source": []
  },
  {
   "cell_type": "markdown",
   "id": "9a24cd6e",
   "metadata": {},
   "source": [
    " ###  MultinomialNB with smoothing value of 0.9(part10)"
   ]
  },
  {
   "cell_type": "markdown",
   "id": "c40420c3",
   "metadata": {},
   "source": [
    "#### separator and describing model (MultinomialNB with smoothing value of 0.9)"
   ]
  },
  {
   "cell_type": "code",
   "execution_count": 185,
   "id": "ec81fecc",
   "metadata": {},
   "outputs": [],
   "source": [
    "f = open(\"bbc-performance.txt\", \"a\")\n",
    "f.write(\"\\n\\n\\n\\n\\t**********************************\\n\")\n",
    "f.write(\"\\n\\tMultinomialNB with smoothing value of 0.9\\n\\n\\n\")\n",
    "f.close()"
   ]
  },
  {
   "cell_type": "markdown",
   "id": "c1533f3b",
   "metadata": {},
   "source": [
    " #### Train using Naive Bayes Classifier"
   ]
  },
  {
   "cell_type": "code",
   "execution_count": 186,
   "id": "19171e9b",
   "metadata": {},
   "outputs": [
    {
     "data": {
      "text/plain": [
       "MultinomialNB(alpha=0.9)"
      ]
     },
     "execution_count": 186,
     "metadata": {},
     "output_type": "execute_result"
    }
   ],
   "source": [
    "naive_bayes_training_smoothing2 = MultinomialNB(alpha=0.9)\n",
    "naive_bayes_training_smoothing2.fit(X_train, y_train)"
   ]
  },
  {
   "cell_type": "markdown",
   "id": "4a7a851c",
   "metadata": {},
   "source": [
    " #### Confusion Metrix"
   ]
  },
  {
   "cell_type": "code",
   "execution_count": 187,
   "id": "f890f0b4",
   "metadata": {},
   "outputs": [],
   "source": [
    "f = open(\"bbc-performance.txt\", \"a\")\n",
    "f.write(\"\\nConfusion Metrix: \\n\")\n",
    "y_predicted = naive_bayes_training_smoothing2.predict(X_test)\n",
    "confusion_matrix(y_test, y_predicted)\n",
    "f.write(repr(confusion_matrix(y_test, y_predicted)))\n",
    "f.close()"
   ]
  },
  {
   "cell_type": "markdown",
   "id": "c335280d",
   "metadata": {},
   "source": [
    "#### precision, recall, and F1-measure for each class"
   ]
  },
  {
   "cell_type": "code",
   "execution_count": null,
   "id": "d99f8001",
   "metadata": {},
   "outputs": [],
   "source": []
  },
  {
   "cell_type": "markdown",
   "id": "6c02c8eb",
   "metadata": {},
   "source": [
    "#### accuracy, macro-average F1 and weighted-average F1 of the model "
   ]
  },
  {
   "cell_type": "code",
   "execution_count": null,
   "id": "08388b94",
   "metadata": {},
   "outputs": [],
   "source": []
  },
  {
   "cell_type": "markdown",
   "id": "2e30ba10",
   "metadata": {},
   "source": [
    "#### prior probability of each class"
   ]
  },
  {
   "cell_type": "code",
   "execution_count": null,
   "id": "826091ec",
   "metadata": {},
   "outputs": [],
   "source": []
  },
  {
   "cell_type": "markdown",
   "id": "65610fe5",
   "metadata": {},
   "source": [
    "#### size of the vocabulary"
   ]
  },
  {
   "cell_type": "code",
   "execution_count": null,
   "id": "a5c2150b",
   "metadata": {},
   "outputs": [],
   "source": []
  },
  {
   "cell_type": "markdown",
   "id": "7b5959ea",
   "metadata": {},
   "source": [
    "#### number of word-tokens in each class"
   ]
  },
  {
   "cell_type": "code",
   "execution_count": null,
   "id": "fee66a5e",
   "metadata": {},
   "outputs": [],
   "source": []
  },
  {
   "cell_type": "markdown",
   "id": "8f8fd902",
   "metadata": {},
   "source": [
    "#### number of word-tokens in the entire corpus"
   ]
  },
  {
   "cell_type": "code",
   "execution_count": null,
   "id": "911f7fe6",
   "metadata": {},
   "outputs": [],
   "source": []
  },
  {
   "cell_type": "markdown",
   "id": "0b0ca5ec",
   "metadata": {},
   "source": [
    "#### Words with a frequency of zero in each class"
   ]
  },
  {
   "cell_type": "code",
   "execution_count": null,
   "id": "a08a4bde",
   "metadata": {},
   "outputs": [],
   "source": []
  },
  {
   "cell_type": "markdown",
   "id": "71be0f2d",
   "metadata": {},
   "source": [
    "#### Words with a frequency of one in the entire corpus"
   ]
  },
  {
   "cell_type": "code",
   "execution_count": null,
   "id": "06ea00d2",
   "metadata": {},
   "outputs": [],
   "source": []
  },
  {
   "cell_type": "markdown",
   "id": "b586414c",
   "metadata": {},
   "source": [
    "#### log-prob of 2 favorite words"
   ]
  },
  {
   "cell_type": "code",
   "execution_count": null,
   "id": "f6195103",
   "metadata": {},
   "outputs": [],
   "source": []
  },
  {
   "cell_type": "code",
   "execution_count": null,
   "id": "59e6dae4",
   "metadata": {},
   "outputs": [],
   "source": []
  },
  {
   "cell_type": "code",
   "execution_count": null,
   "id": "59b99224",
   "metadata": {},
   "outputs": [],
   "source": []
  }
 ],
 "metadata": {
  "kernelspec": {
   "display_name": "Python 3",
   "language": "python",
   "name": "python3"
  },
  "language_info": {
   "codemirror_mode": {
    "name": "ipython",
    "version": 3
   },
   "file_extension": ".py",
   "mimetype": "text/x-python",
   "name": "python",
   "nbconvert_exporter": "python",
   "pygments_lexer": "ipython3",
   "version": "3.8.8"
  }
 },
 "nbformat": 4,
 "nbformat_minor": 5
}
